{
 "cells": [
  {
   "cell_type": "code",
   "execution_count": null,
   "id": "b0a60098-5761-4ad6-95f3-78a74bd1681b",
   "metadata": {},
   "outputs": [],
   "source": []
  }
 ],
 "metadata": {
  "kernelspec": {
   "display_name": "",
   "name": ""
  },
  "language_info": {
   "name": ""
  }
 },
 "nbformat": 4,
 "nbformat_minor": 5
}
