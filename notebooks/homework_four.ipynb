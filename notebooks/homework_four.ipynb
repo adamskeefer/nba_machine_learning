{
 "cells": [
  {
   "cell_type": "markdown",
   "metadata": {},
   "source": [
    "# Homework Four\n",
    "For this homework I wanted to continue looking at Decision Trees, but this go around with further exploration. I want to explore how I can use AdaBoosting and Gradient Boosting to predict whether LeBron's in game statistics can serve as a predictor for the team winning or not.\n",
    "\n",
    "## Collecting the data\n",
    "In a previous homework, I created a script to scrape LeBron's gamelogs from the last five seasons from the NBA API and store them in a .csv file:"
   ]
  },
  {
   "cell_type": "code",
   "execution_count": null,
   "metadata": {},
   "outputs": [],
   "source": [
    "from nba_api.stats.endpoints import playergamelog\n",
    "from nba_api.stats.static import players\n",
    "import pandas as pd\n",
    "import os\n",
    "\n",
    "lebron = players.find_players_by_full_name(\"LeBron James\")[0]\n",
    "lebron_id = lebron['id']\n",
    "\n",
    "seasons = ['2020-21', '2021-22', '2022-23', '2023-24', '2024-25']\n",
    "all_gamelogs = pd.DataFrame()\n",
    "\n",
    "for season in seasons:\n",
    "    gamelogs = playergamelog.PlayerGameLog(player_id=lebron_id, season=season)\n",
    "    gamelogs_df = gamelogs.get_data_frames()[0]\n",
    "    gamelogs_df['SEASON'] = season\n",
    "    all_gamelogs = pd.concat([all_gamelogs, gamelogs_df], ignore_index=True)\n",
    "\n",
    "data_directory = os.path.join(os.path.dirname(os.path.dirname(os.path.dirname(__file__))), 'data', 'lebron')\n",
    "output_file = os.path.join(data_directory, 'lebron_gamelogs_last_five.csv')\n",
    "\n",
    "all_gamelogs.to_csv(output_file, index=False)\n",
    "print(\"Data saved!\")\n",
    "\n",
    "print(all_gamelogs.head())"
   ]
  },
  {
   "cell_type": "markdown",
   "metadata": {},
   "source": [
    "I will be using this dataset once again for this homework.\n",
    "\n",
    "## Basic Decision Tree\n",
    "First I decided to create a basic decision tree based on LeBron's in game stats to see how it would perform"
   ]
  },
  {
   "cell_type": "code",
   "execution_count": null,
   "metadata": {},
   "outputs": [],
   "source": [
    "import pandas as pd\n",
    "from sklearn.model_selection import train_test_split\n",
    "from sklearn.tree import DecisionTreeClassifier\n",
    "from sklearn.metrics import accuracy_score, classification_report\n",
    "import os\n",
    "\n",
    "data_directory = os.path.join(os.path.dirname(os.path.dirname(os.path.dirname(__file__))), 'data', 'lebron')\n",
    "data_file = os.path.join(data_directory, 'lebron_gamelogs_last_five.csv')\n",
    "data = pd.read_csv(data_file)\n",
    "\n",
    "data['WIN'] = data['WL'].apply(lambda x: 1 if x == 'W' else 0)\n",
    "\n",
    "features = ['PTS', 'FG_PCT', 'FG3_PCT', 'AST', 'REB', 'TOV', 'STL', 'MIN']\n",
    "X = data[features]\n",
    "y = data['WIN']\n",
    "\n",
    "trainX, testX, trainY, testY = train_test_split(X, y, test_size=0.2, random_state=50)\n",
    "\n",
    "dt = DecisionTreeClassifier(random_state=None, max_depth=None, min_samples_leaf=1, \n",
    "                            min_samples_split=2, criterion='entropy', class_weight=None, min_weight_fraction_leaf=0.0,\n",
    "                            splitter='best')\n",
    "\n",
    "dt.fit(trainX, trainY)\n",
    "print(dt.score(testX, testY))"
   ]
  },
  {
   "cell_type": "markdown",
   "metadata": {},
   "source": [
    "0.5714285714285714"
   ]
  },
  {
   "cell_type": "markdown",
   "metadata": {},
   "source": [
    "Not a great model, let's try using a Random Forest on this dataset instead."
   ]
  },
  {
   "cell_type": "code",
   "execution_count": null,
   "metadata": {},
   "outputs": [],
   "source": [
    "features = ['PTS', 'FG_PCT', 'FG3_PCT', 'AST', 'MIN']\n",
    "X = data[features]\n",
    "y = data['WIN']\n",
    "\n",
    "trainX, testX, trainY, testY = train_test_split(X, y, test_size=0.2, random_state=50)\n",
    "\n",
    "rf = RandomForestClassifier(bootstrap=True, class_weight=None, criterion='gini', max_depth=None,\n",
    "                            max_features=None, max_leaf_nodes=None, min_samples_leaf=1,\n",
    "                            min_samples_split=2, min_weight_fraction_leaf=0.0, n_estimators=10, n_jobs=None,\n",
    "                            oob_score=False, random_state=None, verbose=0, warm_start=False)\n",
    "\n",
    "rf.fit(trainX, trainY)\n",
    "print(rf.score(testX, testY))"
   ]
  },
  {
   "cell_type": "markdown",
   "metadata": {},
   "source": [
    "0.5892857142857143"
   ]
  },
  {
   "cell_type": "markdown",
   "metadata": {},
   "source": [
    "Still not that good. But that is fine, it gives us better insight into how LeBron's offensive performance impacts winning, and it looks like it doesn't that much."
   ]
  },
  {
   "cell_type": "markdown",
   "metadata": {},
   "source": [
    "## Boosting\n",
    "Using an ADA Boost, I looked to see if that would improve the model:"
   ]
  },
  {
   "cell_type": "code",
   "execution_count": null,
   "metadata": {},
   "outputs": [],
   "source": [
    "import pandas as pd\n",
    "from sklearn.model_selection import train_test_split\n",
    "from sklearn.ensemble import AdaBoostClassifier\n",
    "from sklearn.tree import DecisionTreeClassifier\n",
    "from sklearn.metrics import accuracy_score, classification_report\n",
    "import os\n",
    "\n",
    "data_directory = os.path.join(os.path.dirname(os.path.dirname(os.path.dirname(__file__))), 'data', 'lebron')\n",
    "data_file = os.path.join(data_directory, 'lebron_gamelogs_last_five.csv')\n",
    "data = pd.read_csv(data_file)\n",
    "\n",
    "data['WIN'] = data['WL'].apply(lambda x: 1 if x == 'W' else 0)\n",
    "features = ['PTS', 'FG_PCT', 'FG3_PCT', 'AST', 'MIN']\n",
    "X = data[features]\n",
    "y = data['WIN']\n",
    "\n",
    "trainX, testX, trainY, testY = train_test_split(X, y, test_size=0.2, random_state=50)\n",
    "\n",
    "base_estimator = DecisionTreeClassifier(\n",
    "    max_depth=6,\n",
    "    random_state=None\n",
    ")\n",
    "\n",
    "ada = AdaBoostClassifier(\n",
    "    estimator=base_estimator,\n",
    "    n_estimators=50,\n",
    "    learning_rate=1.0,\n",
    "    random_state=42\n",
    ")\n",
    "ada.fit(trainX, trainY)\n",
    "\n",
    "test_accuracy = ada.score(testX, testY)\n",
    "print(f\"Testing Accuracy: {test_accuracy:.2f}\")"
   ]
  },
  {
   "cell_type": "markdown",
   "metadata": {},
   "source": [
    "Testing Accuracy: 0.54 \n",
    "It does not look like any sort of tree is going to predict whether LeBron's team won or not based on his performance, but why is that? Well for starters LeBron is typically the best player on his team, and they best players are going to perform well no matter the situation. Basketball is a team sport and you can't rely on one player to carry your team.\n",
    "\n",
    "## Using Gradient Boosting to Predict Points\n",
    "The first thing I had to do here is add some fields to my data. I wanted to see if I could predict LeBron's points for a game based on whether the game was home or away and his last 5 point averages. To do this I had to modify the imported dataset:"
   ]
  },
  {
   "cell_type": "code",
   "execution_count": null,
   "metadata": {},
   "outputs": [],
   "source": [
    "import pandas as pd\n",
    "from sklearn.model_selection import train_test_split\n",
    "from sklearn.ensemble import AdaBoostClassifier\n",
    "from sklearn.tree import DecisionTreeClassifier\n",
    "from sklearn.metrics import accuracy_score, classification_report\n",
    "import os\n",
    "data_directory = os.path.join(os.path.dirname(os.path.dirname(os.path.dirname(__file__))), 'data', 'lebron')\n",
    "data_file = os.path.join(data_directory, 'lebron_gamelogs_last_five.csv')\n",
    "data = pd.read_csv(data_file)\n",
    "\n",
    "data['GAME_DATE'] = pd.to_datetime(data['GAME_DATE'], format='%b %d, %Y')\n",
    "\n",
    "data['WIN'] = data['WL'].apply(lambda x: 1 if x == 'W' else 0)\n",
    "data['HOME'] = data['MATCHUP'].apply(lambda x: 1 if \"vs\" in x else 0)\n",
    "\n",
    "data.sort_values(['SEASON', 'GAME_DATE'], inplace=True)\n",
    "\n",
    "def calculate_avg_pts_last_5(season_df):\n",
    "    season_df['AVG_PTS_LAST_5'] = season_df['PTS'].rolling(window=5, min_periods=5).mean()\n",
    "    return season_df.iloc[5:]\n",
    "\n",
    "data = (\n",
    "    data.groupby('SEASON', group_keys=False, as_index=False)\n",
    "    .apply(lambda df: calculate_avg_pts_last_5(df), include_groups=False)\n",
    "    .reset_index(drop=True)\n",
    ")"
   ]
  },
  {
   "cell_type": "markdown",
   "metadata": {},
   "source": [
    "Without hyperparameters, I ran the model like this: "
   ]
  },
  {
   "cell_type": "code",
   "execution_count": null,
   "metadata": {},
   "outputs": [],
   "source": [
    "X = data[['HOME', 'AVG_PTS_LAST_5']]\n",
    "y = data['PTS']\n",
    "\n",
    "trainX, testX, trainY, testY = train_test_split(X, y, test_size=0.2, random_state=None)\n",
    "dt = GradientBoostingRegressor(random_state=None)\n",
    "dt.fit(trainX, trainY)\n",
    "predY = dt.predict(testX)\n",
    "\n",
    "mae = mean_absolute_error(testY, predY)\n",
    "rmse = mean_squared_error(testY, predY)\n",
    "\n",
    "print(f\"Mean Absolute Error (MAE): {mae:.2f}\")\n",
    "print(f\"Root Mean Squared Error (RMSE): {rmse:.2f}\")"
   ]
  },
  {
   "cell_type": "markdown",
   "metadata": {},
   "source": [
    "Mean Absolute Error (MAE): 5.81\n",
    "Root Mean Squared Error (RMSE): 53.00  .   That mean absolute error isn't terribl, but the RMSE is very high, and can be improved upon, so I added some more features. I added columns for LeBron's average vs the opponent as well as checking if the game was on the second night of a back to back (playing two games in one night):"
   ]
  },
  {
   "cell_type": "code",
   "execution_count": null,
   "metadata": {},
   "outputs": [],
   "source": [
    "data.sort_values(['SEASON_ID', 'GAME_DATE'], inplace=True)\n",
    "print(data.head())\n",
    "def calculate_avg_pts_last_5(season_df):\n",
    "    season_df['AVG_PTS_LAST_5'] = season_df['PTS'].rolling(window=5, min_periods=5).mean()\n",
    "    return season_df.iloc[5:]\n",
    "\n",
    "\n",
    "data = (\n",
    "    data.groupby('SEASON_ID', group_keys=False, as_index=False)\n",
    "    .apply(lambda df: calculate_avg_pts_last_5(df))\n",
    "    .reset_index(drop=True)\n",
    ")\n",
    "data.dropna(subset=['AVG_PTS_LAST_5'], inplace=True)\n",
    "data['Game_Date_Diff'] = data.groupby('SEASON_ID')['GAME_DATE'].diff().dt.days\n",
    "data['BACK_TO_BACK'] = data['Game_Date_Diff'].apply(lambda x: 1 if x == 1 else 0)\n",
    "data['OPPONENT'] = data['MATCHUP'].apply(lambda x: x.split()[-1])\n",
    "\n",
    "data['AVG_PTS_VS_OPPONENT'] = data.groupby('OPPONENT')['PTS'].transform(lambda x: x.expanding().mean())\n",
    "\n",
    "data.drop(columns=['Game_Date_Diff', 'OPPONENT'], inplace=True)\n",
    "\n",
    "X = data[['HOME', 'AVG_PTS_LAST_5', 'BACK_TO_BACK', 'AVG_PTS_VS_OPPONENT']]\n",
    "y = data['PTS'] \n",
    "trainX, testX, trainY, testY = train_test_split(X, y, test_size=0.2, random_state=42)\n",
    "model = GradientBoostingRegressor(random_state=42)\n",
    "model.fit(trainX, trainY)"
   ]
  },
  {
   "cell_type": "markdown",
   "metadata": {},
   "source": [
    "Mean Absolute Error (MAE): 5.29\n",
    "Root Mean Squared Error (RMSE): 42.75. This lowered both Errors, but the RMSE is still pretty high."
   ]
  }
 ],
 "metadata": {
  "language_info": {
   "name": "python"
  }
 },
 "nbformat": 4,
 "nbformat_minor": 2
}
