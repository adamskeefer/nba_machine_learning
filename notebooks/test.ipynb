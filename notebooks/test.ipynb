{
 "cells": [
  {
   "cell_type": "markdown",
   "metadata": {},
   "source": [
    "Testing pdf conversion\n",
    "\n",
    "![image](\"C:\\Users\\Adams\\Desktop\\Coding Projects\\nba_machine_learning\\visualizations\\lebron\\actual_vs_predicted_pts.png\")"
   ]
  }
 ],
 "metadata": {
  "language_info": {
   "name": "python"
  }
 },
 "nbformat": 4,
 "nbformat_minor": 2
}
